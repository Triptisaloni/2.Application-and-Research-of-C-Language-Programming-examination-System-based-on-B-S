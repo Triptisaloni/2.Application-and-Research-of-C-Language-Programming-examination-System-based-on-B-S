{
  "nbformat": 4,
  "nbformat_minor": 0,
  "metadata": {
    "colab": {
      "name": "Untitled2.ipynb",
      "provenance": [],
      "authorship_tag": "ABX9TyM+OByYI+mCDChIeDvzGGbM",
      "include_colab_link": true
    },
    "kernelspec": {
      "name": "python3",
      "display_name": "Python 3"
    },
    "language_info": {
      "name": "python"
    }
  },
  "cells": [
    {
      "cell_type": "markdown",
      "metadata": {
        "id": "view-in-github",
        "colab_type": "text"
      },
      "source": [
        "<a href=\"https://colab.research.google.com/github/Triptisaloni/2.Application-and-Research-of-C-Language-Programming-examination-System-based-on-B-S/blob/master/Untitled2.ipynb\" target=\"_parent\"><img src=\"https://colab.research.google.com/assets/colab-badge.svg\" alt=\"Open In Colab\"/></a>"
      ]
    },
    {
      "cell_type": "code",
      "metadata": {
        "colab": {
          "base_uri": "https://localhost:8080/"
        },
        "id": "-m3m7EXx5UPq",
        "outputId": "79661eb1-3260-483c-dcf6-717bfc375f03"
      },
      "source": [
        "def power(base,exp):\n",
        "\n",
        "    if(exp==1):\n",
        "        return(base)\n",
        "    if(exp!=1):\n",
        "        return (base*power(base,exp-1))\n",
        "        \n",
        "base=int(input(\" Enter the base number :- \"))\n",
        "exp=int(input(\" Enter the exponential value :- \"))\n",
        "\n",
        "print(\" Result:\",power(base,exp))"
      ],
      "execution_count": 1,
      "outputs": [
        {
          "output_type": "stream",
          "text": [
            " Enter the base number :- 5\n",
            " Enter the exponential value :- 3\n",
            " Result: 125\n"
          ],
          "name": "stdout"
        }
      ]
    },
    {
      "cell_type": "code",
      "metadata": {
        "colab": {
          "base_uri": "https://localhost:8080/"
        },
        "id": "lmlq3p5u6WmZ",
        "outputId": "0f7accc0-2c14-469b-b8be-e22f9fceb19e"
      },
      "source": [
        "n = int(input(\"Enter the number of terms : \"))\n",
        "for x in range(1, n+1):\n",
        "    print(\"2 ^\", x, \"=\", 2**x)"
      ],
      "execution_count": 5,
      "outputs": [
        {
          "output_type": "stream",
          "text": [
            "Enter the number of terms : 5\n",
            "2 ^ 1 = 2\n",
            "2 ^ 2 = 4\n",
            "2 ^ 3 = 8\n",
            "2 ^ 4 = 16\n",
            "2 ^ 5 = 32\n"
          ],
          "name": "stdout"
        }
      ]
    },
    {
      "cell_type": "code",
      "metadata": {
        "colab": {
          "base_uri": "https://localhost:8080/"
        },
        "id": "vnWWpQOo-Uji",
        "outputId": "f159636c-7b59-4512-8a86-ce2e2f007155"
      },
      "source": [
        "n = int(input(\"Enter the number of terms : \"))\n",
        "print(\"The number that are divisible by 19 are\")\n",
        "for x in range(1, n+1):\n",
        "    print(\"19 *\", x, \"=\", 19*x)"
      ],
      "execution_count": 8,
      "outputs": [
        {
          "output_type": "stream",
          "text": [
            "Enter the number of terms : 5\n",
            "The number that are divisible by 19 are\n",
            "19 * 1 = 19\n",
            "19 * 2 = 38\n",
            "19 * 3 = 57\n",
            "19 * 4 = 76\n",
            "19 * 5 = 95\n"
          ],
          "name": "stdout"
        }
      ]
    }
  ]
}