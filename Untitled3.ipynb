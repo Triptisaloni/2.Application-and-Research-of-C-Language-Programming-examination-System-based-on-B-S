{
  "nbformat": 4,
  "nbformat_minor": 0,
  "metadata": {
    "colab": {
      "name": "Untitled3.ipynb",
      "provenance": [],
      "authorship_tag": "ABX9TyOJb2CB8grTPwB6cUfOigRn",
      "include_colab_link": true
    },
    "kernelspec": {
      "name": "python3",
      "display_name": "Python 3"
    },
    "language_info": {
      "name": "python"
    }
  },
  "cells": [
    {
      "cell_type": "markdown",
      "metadata": {
        "id": "view-in-github",
        "colab_type": "text"
      },
      "source": [
        "<a href=\"https://colab.research.google.com/github/Triptisaloni/2.Application-and-Research-of-C-Language-Programming-examination-System-based-on-B-S/blob/master/Untitled3.ipynb\" target=\"_parent\"><img src=\"https://colab.research.google.com/assets/colab-badge.svg\" alt=\"Open In Colab\"/></a>"
      ]
    },
    {
      "cell_type": "code",
      "metadata": {
        "colab": {
          "base_uri": "https://localhost:8080/"
        },
        "id": "IoUebWo-9-q7",
        "outputId": "817d0545-bc92-4044-f147-8c44e5aceb5f"
      },
      "source": [
        "def binary_search(arr, n):  \n",
        "    low = 0  \n",
        "    high = len(arr) - 1  \n",
        "    mid = 0  \n",
        "  \n",
        "    while low <= high:   \n",
        "        mid = (high + low) // 2  \n",
        "  \n",
        "        if arr[mid] < n:  \n",
        "            low = mid + 1  \n",
        "  \n",
        "        elif arr[mid] > n:  \n",
        "            high = mid - 1  \n",
        "  \n",
        "        else:  \n",
        "            return mid  \n",
        "    return -1  \n",
        "   \n",
        "arr = [12, 24, 32, 39, 45, 50, 54]  \n",
        "n = int(input(\"Enter the elemnt to be searched : \"))  \n",
        "result = binary_search(arr, n)  \n",
        "  \n",
        "if result != -1:  \n",
        "    print(\"Element is present at index\", str(result))  \n",
        "else:  \n",
        "    print(\"Element is not present in array\")  "
      ],
      "execution_count": 9,
      "outputs": [
        {
          "output_type": "stream",
          "text": [
            "Enter the elemnt to be searched : 50\n",
            "Element is present at index 5\n"
          ],
          "name": "stdout"
        }
      ]
    },
    {
      "cell_type": "code",
      "metadata": {
        "colab": {
          "base_uri": "https://localhost:8080/"
        },
        "id": "CuyII4KoFthH",
        "outputId": "a538f23f-93e7-484e-c05e-5a06f3a2b79e"
      },
      "source": [
        "def selection_sort(alist):\n",
        "\n",
        "    for i in range(0, len(alist) - 1):\n",
        "        smallest = i\n",
        "\n",
        "        for j in range(i + 1, len(alist)):\n",
        "            if alist[j] < alist[smallest]:\n",
        "                smallest = j\n",
        "\n",
        "        alist[i], alist[smallest] = alist[smallest], alist[i]\n",
        " \n",
        " \n",
        "alist = input('Enter the list of numbers: ').split()\n",
        "alist = [int(x) for x in alist]\n",
        "\n",
        "selection_sort(alist)\n",
        "\n",
        "print('Sorted list: ', end='')\n",
        "print(alist)"
      ],
      "execution_count": 12,
      "outputs": [
        {
          "output_type": "stream",
          "text": [
            "Enter the list of numbers: 4 5 74 1 2 30 45\n",
            "Sorted list: [1, 2, 4, 5, 30, 45, 74]\n"
          ],
          "name": "stdout"
        }
      ]
    }
  ]
}